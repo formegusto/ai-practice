{
 "cells": [
  {
   "cell_type": "markdown",
   "id": "4e7e4018",
   "metadata": {},
   "source": [
    "#### https://techblog-history-younghunjo1.tistory.com/374"
   ]
  },
  {
   "cell_type": "markdown",
   "id": "9a5c462c",
   "metadata": {},
   "source": [
    "# 1. Computational Graph\n",
    "- 노드(Node)와 간선(Edge)로 계산을 표현할 수 있는 그래프\n",
    "- 사과 박스(Box) -> 사과 갯수(200원), 소비세(220원) -> 내야할돈(money)\n",
    "    - 이와 같이 왼쪽에서 오른쪽으로 진행하는 단계를 순전파(Forward Propagation)이라고 한다.\n",
    "    - 역전파(Back Propagation)는 이 반대방향인 오른쪽에서 왼쪽으로 진행하는 단계를 의미한다."
   ]
  },
  {
   "cell_type": "markdown",
   "id": "18dc7fb9",
   "metadata": {},
   "source": [
    "# 2. Local Computation\n",
    "- 국소적(Local) : 자신과 직접 관계된 작은 범위\n",
    "- 국소적 계산(Local Computation) : 자신과 직접 관계된 작은 범위내에서 이루어지는 계산\n",
    "    - 각각 자신의 노드에서 이루어지는 연산은 자기 노드 이전 노드까지 어떤 복잡한 계산과정을 하던 말던 자신의 노드에 있는 연산 계산만 신경쓰면 된다.\n",
    "- 이러한 특징 때문에, 국소적 계산은 복잡한 계산을 단순화하는 장점이 있다. 또한 계산 결과를 캐싱 기능처럼 모두 보관할 수 있다."
   ]
  },
  {
   "cell_type": "markdown",
   "id": "11208d6d",
   "metadata": {},
   "source": [
    "# 3. Back Propagation - Derivative\n",
    "- 미분(derivative)이란 어떤 함수의 정의역 속 각 점에서 함숫값의 변화량과 독립 변숫값의 변화량 비의 극한 혹은 극한들로 치역이 구성되는 함수이다.\n",
    "    - 어떤 함수의 미분 계수 또는 순간 변화율을 구하는 것을 의미한다.\n",
    "- 역전파 수행 시, 순전파를 수행했을 때의 입력으로 들어온 값에 대해 입력 이후 계산 **결과값이 얼마나 변화하는지에 대한 값, 바로 '미분'값을 전달**한다.\n",
    "    - 내야할돈(220원) -> 소비세(1.1) -> 사과갯수 (2.2) -> 사과박스\n",
    "    - 결과적으로 2.2의 값이 사과박스 가격에 대한 내야할 돈의 이분값이다. \"사과박스 가격이 아주 조금 변화했을 때, 내야할 돈이 기존보다 얼마나 변화했는가?\"를 의미한다. 즉, 변화량의 계산\n",
    "- 역전파는 중간중간에 존재하는 모든 연산 과정에 대해 미분(i.e. 국소적 미분)을 수행해서 최종적으로 '사과 박스 가격'에 대한 내야할 돈의 최종 미분 값을 결정해준다."
   ]
  },
  {
   "cell_type": "markdown",
   "id": "e3db6099",
   "metadata": {},
   "source": [
    "# 4. Chain Rule\n",
    "- 그렇다면 연속적으로 연산 노드 마다 미분 값을 어떻게 구해줄까?\n",
    "- **연쇄법칙을 통해서 역전파 시 국소적인 미분을 전달**할 수 있다.\n",
    "    - 이전 노드에서 흘러나온 계산 결과값을 E로 봤을 때, f(x)에 대한 국소적 미분 값을 구하기 위해서 x에 대한 y값의 미분값을 구해주고 이를 E와 곱해서 다음 노드로 넘겨준다.\n",
    "## 국소적 미분을 활용하는 연쇄법칙\n",
    "- 연쇄 법칙은 합성함수의 미분을 의미한다. 합성함수의 미분을 구하기 위해서는 합성함수를 구성하는 각 함수의 비분의 곱으로 나타낼 수 있다.\n",
    "    - 이를 펼치면 편미분의 형태가 나온다."
   ]
  },
  {
   "cell_type": "markdown",
   "id": "fca86baa",
   "metadata": {},
   "source": [
    "# 5. Apple Box Example\n",
    "- d is derivative"
   ]
  },
  {
   "cell_type": "code",
   "execution_count": 4,
   "id": "2f800e62",
   "metadata": {},
   "outputs": [],
   "source": [
    "import numpy as np\n",
    "\n",
    "class MulLayer:\n",
    "    def __init__(self):\n",
    "        self.x = None\n",
    "        self.y = None\n",
    "    \n",
    "    def forward(self, x, y):\n",
    "        self.x = x\n",
    "        self.y = y\n",
    "        return x * y\n",
    "\n",
    "    def backward(self, d_out):\n",
    "        # Forward Propagation 시, 입력을 서로 바꾸어서 곱해준다.\n",
    "        dx = d_out * self.y\n",
    "        dy = d_out * self.x\n",
    "        \n",
    "        return dx, dy"
   ]
  },
  {
   "cell_type": "code",
   "execution_count": 8,
   "id": "044f4bc4",
   "metadata": {},
   "outputs": [],
   "source": [
    "apple_box = 100\n",
    "apple_box_num = 2\n",
    "tax = 1.1"
   ]
  },
  {
   "cell_type": "code",
   "execution_count": 9,
   "id": "5d21ad3a",
   "metadata": {},
   "outputs": [],
   "source": [
    "mul_apple_layer = MulLayer()\n",
    "mul_tax_layer = MulLayer()"
   ]
  },
  {
   "cell_type": "code",
   "execution_count": 17,
   "id": "db1404fb",
   "metadata": {},
   "outputs": [
    {
     "name": "stdout",
     "output_type": "stream",
     "text": [
      "After Front Propagation, Price : 220.00000000000003\n",
      "After Back Propagation\n",
      "사과 박스 가격 : 2.2\n",
      "사과 박스 갯수 : 110.00000000000001\n",
      "소비자세 : 200\n"
     ]
    }
   ],
   "source": [
    "# 1. Front Propagation\n",
    "# x - 사과 박스 개당 가격, y - 사과 박스 갯수\n",
    "apple_box_price = mul_apple_layer.forward(apple_box, apple_box_num)\n",
    "# x - 사과 박스 개당 가격 X 사과 박스 갯수 출력값, y - 소비세\n",
    "price = mul_tax_layer.forward(apple_box_price, tax)\n",
    "print(\"After Front Propagation, Price : {}\".format(price))\n",
    "\n",
    "# 2. Back Propagation\n",
    "d_price = 1 \n",
    "# x - \n",
    "d_apple_box_price, d_tax = mul_tax_layer.backward(d_price)\n",
    "d_apple_box, d_apple_box_num = mul_apple_layer.backward(d_apple_box_price)\n",
    "print(\"After Back Propagation\")\n",
    "print(\"사과 박스 가격 : {}\".format(d_apple_box))\n",
    "print(\"사과 박스 갯수 : {}\".format(d_apple_box_num))\n",
    "print(\"소비자세 : {}\".format(d_tax))"
   ]
  },
  {
   "cell_type": "markdown",
   "id": "e1506236",
   "metadata": {},
   "source": [
    "# 6. Add Layer"
   ]
  },
  {
   "cell_type": "code",
   "execution_count": 18,
   "id": "96423944",
   "metadata": {},
   "outputs": [],
   "source": [
    "class AddLayer:\n",
    "    def __init__(self):\n",
    "        pass\n",
    "\n",
    "    def forward(self, x, y):\n",
    "        return x + y\n",
    "\n",
    "    def backward(self, d_out):\n",
    "        dx = d_out * 1\n",
    "        dy = d_out * 1\n",
    "        return dx, dy"
   ]
  },
  {
   "cell_type": "code",
   "execution_count": 22,
   "id": "d1bd6754",
   "metadata": {},
   "outputs": [
    {
     "name": "stdout",
     "output_type": "stream",
     "text": [
      "5\n",
      "1 1\n"
     ]
    }
   ],
   "source": [
    "x = 2\n",
    "y = 3\n",
    "\n",
    "add_layer = AddLayer()\n",
    "result = add_layer.forward(x, y)\n",
    "print(result)\n",
    "\n",
    "d_out = 1\n",
    "dx, dy = add_layer.backward(d_out)\n",
    "print(dx, dy)"
   ]
  },
  {
   "cell_type": "markdown",
   "id": "02db8152",
   "metadata": {},
   "source": [
    "# 7. Multiply Layer"
   ]
  },
  {
   "cell_type": "code",
   "execution_count": 24,
   "id": "b216e27f",
   "metadata": {},
   "outputs": [],
   "source": [
    "class MulLayer:\n",
    "    def __init__(self):\n",
    "        pass\n",
    "    \n",
    "    def forward(self, x, y):\n",
    "        self.x = x\n",
    "        self.y = y\n",
    "        out = x * y\n",
    "        \n",
    "        return out\n",
    "    \n",
    "    def backward(self, dout):\n",
    "        dx = dout * self.y\n",
    "        dy = dout * self.x\n",
    "        \n",
    "        return dx, dy"
   ]
  },
  {
   "cell_type": "code",
   "execution_count": 27,
   "id": "b413b742",
   "metadata": {},
   "outputs": [
    {
     "name": "stdout",
     "output_type": "stream",
     "text": [
      "6\n",
      "3 2\n"
     ]
    }
   ],
   "source": [
    "x = 2\n",
    "y = 3\n",
    "\n",
    "mul_layer = MulLayer()\n",
    "result = mul_layer.forward(x, y)\n",
    "print(result)\n",
    "\n",
    "d_out = 1\n",
    "dx, dy = mul_layer.backward(d_out)\n",
    "print(dx, dy)"
   ]
  },
  {
   "cell_type": "markdown",
   "id": "73504366",
   "metadata": {},
   "source": [
    "# 8. Add + Mul Layer"
   ]
  },
  {
   "cell_type": "code",
   "execution_count": 28,
   "id": "bd1b6cc3",
   "metadata": {},
   "outputs": [],
   "source": [
    "apple = 100\n",
    "apple_num = 2\n",
    "orange = 150\n",
    "orange_num = 3\n",
    "tax = 1.1"
   ]
  },
  {
   "cell_type": "code",
   "execution_count": 32,
   "id": "c78820f1",
   "metadata": {},
   "outputs": [
    {
     "name": "stdout",
     "output_type": "stream",
     "text": [
      "price: 715.0000000000001\n",
      "dApple: 2.2\n",
      "dApple_num 110.00000000000001\n",
      "dOrange: 3.3000000000000003\n",
      "dOrange_num 165.0\n",
      "dTax 650\n"
     ]
    }
   ],
   "source": [
    "# layer\n",
    "mul_apple_layer = MulLayer()\n",
    "mul_orange_layer = MulLayer()\n",
    "add_apple_orange_layer = AddLayer()\n",
    "mul_tax_layer = MulLayer()\n",
    "\n",
    "# Forward Propagation\n",
    "apple_price = mul_apple_layer.forward(apple, apple_num) # (1)\n",
    "orange_price = mul_orange_layer.forward(orange, orange_num) # (2)\n",
    "all_price = add_apple_orange_layer.forward(apple_price, orange_price) # (3)\n",
    "price = mul_tax_layer.forward(all_price, tax) # (4)\n",
    "\n",
    "# Back Propagation\n",
    "dprice = 1\n",
    "dall_price, dtax = mul_tax_layer.backward(dprice) # (4)\n",
    "dapple_price, dorange_price = add_apple_orange_layer.backward(dall_price) # (3)\n",
    "dorange, dorange_num = mul_orange_layer.backward(dorange_price) # (2)\n",
    "dapple, dapple_num = mul_apple_layer.backward(dapple_price) # (1)\n",
    "\n",
    "print(\"price:\",price)\n",
    "print(\"dApple:\",dapple)\n",
    "print(\"dApple_num\",dapple_num)\n",
    "print(\"dOrange:\",dorange)\n",
    "print(\"dOrange_num\",dorange_num)\n",
    "print(\"dTax\",dtax)"
   ]
  }
 ],
 "metadata": {
  "kernelspec": {
   "display_name": "Python 3 (ipykernel)",
   "language": "python",
   "name": "python3"
  },
  "language_info": {
   "codemirror_mode": {
    "name": "ipython",
    "version": 3
   },
   "file_extension": ".py",
   "mimetype": "text/x-python",
   "name": "python",
   "nbconvert_exporter": "python",
   "pygments_lexer": "ipython3",
   "version": "3.8.12"
  }
 },
 "nbformat": 4,
 "nbformat_minor": 5
}
