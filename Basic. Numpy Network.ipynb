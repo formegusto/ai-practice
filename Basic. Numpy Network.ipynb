{
 "cells": [
  {
   "cell_type": "markdown",
   "id": "8f518802",
   "metadata": {},
   "source": [
    "#### https://techblog-history-younghunjo1.tistory.com/393"
   ]
  },
  {
   "cell_type": "markdown",
   "id": "9444c71d",
   "metadata": {},
   "source": [
    "# 1. Optimizer Technic\n",
    "- SGD(Stochastic Gradient Descent)는 Stochastic(확률적) 이라는 단어가 포함된다. 그 이유는 Mini-batch 단위로 전체 데이터 중 일부를 추출해서 그 데이터들을 기반으로 기울기를 구한 후 파라미터를 갱신해주었기 때문이다. \n",
    "    - 그래서 일부 데이터가 전체 데이터를 대표한다는 의미에서 Stochastic 이라는 용어가 붙는다.\n",
    "- 그래서 Back propagation을 통해 얻은 Gradient. 즉, 손실함수 값을 가장 작은 값인 0으로 만들도록하는 파라미터의 변화량을 구했다. SGD와 같은 Optimizer Algorithm의 목적은 이 변화량을 가지고 어떻게 파라미터를 갱신시켜줄 것인지이다.\n",
    "    - Back propagation의 Gradient는 '지도'의 역할을 하고 SGD와 같은 최적화 알고리즘은 '어떻게 탐험해 나갈지'에 대한 처리이다."
   ]
  },
  {
   "cell_type": "markdown",
   "id": "e005d74a",
   "metadata": {},
   "source": [
    "## SGD; Stochastic Gradient Descent"
   ]
  },
  {
   "cell_type": "code",
   "execution_count": 2,
   "id": "a344a005",
   "metadata": {},
   "outputs": [],
   "source": [
    "class SGD:\n",
    "    def __init__(self, lr=0.01):\n",
    "        self.lr = lr\n",
    "    \n",
    "    def update(self, params: dict, grads: dict):\n",
    "        for key in params.keys():\n",
    "            params[key] -= self.lr * grads[key]"
   ]
  },
  {
   "cell_type": "markdown",
   "id": "e0360e27",
   "metadata": {},
   "source": [
    "- SGD의 단점은 손실함수가 어떻게 생겼느냐에 따라 비효율적으로 동작할 수 있다.\n",
    "- 비등방성(anistropy), 기울기가 매번 달라지는 함수에서는 탐색 경로가 비효율적이다.\n",
    "    - SGD가 지그재그로 탐색하는 원인 중 하나는 기울어진 방향이 찾으려는 최솟값과 다른 방향을 가리키기 때문에, 기울기 값이 음수로 나왔다면 양의 방향으로, 음의 방향으로 이동하려면 기울기 값이 음수로 바뀜에 따라 계속 왔다갔다 수행하면서 지그재그 형태를 이루게 된다."
   ]
  },
  {
   "cell_type": "markdown",
   "id": "3e2788de",
   "metadata": {},
   "source": [
    "## Mementum\n",
    "- momentum은 물리 분야에서 유래한 개념이다. Gradient를 보정하는 최적화 기법으로, v라는 새로운 변수('속도'를 의미한다)를 정의하여 파라미터 갱신의 수식을 정의한다.\n",
    "- SGD의 지그재그 이동 현상의 정도가 완화된다."
   ]
  },
  {
   "cell_type": "code",
   "execution_count": 3,
   "id": "844071e6",
   "metadata": {},
   "outputs": [],
   "source": [
    "class Momentum:\n",
    "    def __init__(self, lr=0.01, momentum=0.9):\n",
    "        self.lr = lr\n",
    "        self.momentum = momentum\n",
    "        self.v = None\n",
    "        \n",
    "    def update(self, params: dict, grads: dict):\n",
    "        if self.v is None:\n",
    "            self.v = {}\n",
    "            for key, val in params.items():\n",
    "                self.v[key] = np.zeros_like(val)\n",
    "                \n",
    "        for key in params.keys():\n",
    "            self.v[key] = (self.momentum * self.v[key]) - (self.lr * grads[key])\n",
    "            params[key] += self.v[key]"
   ]
  },
  {
   "cell_type": "markdown",
   "id": "058e8656",
   "metadata": {},
   "source": [
    "## AdaGrad\n",
    "- AdaGrad는 Gradient가 아닌, Learning Rate을 조정하는 방식이다. 학습률 감소(Learning rate Decay)라는 기술을 사용하는데, 학습을 진행하면서 점차 학습률을 줄여나가는 방식을 의미한다\n",
    "    - 처음에는 큰 학습률로 학습하다가 점차 조금씩 작은 학습률로 학습한다는 의미이다.\n",
    "    - 여기서 AdaGrad는 모든 파라미터에 대한 학습률을 동시에 낮추는 것이 아니고, '각 파라미터에 맞게 학습률을 줄여나가는 방식'을 채택한다.\n",
    "- 개별 파라미터에 '적응적으로(Adaptive)' 학습률을 조정한다."
   ]
  },
  {
   "cell_type": "markdown",
   "id": "7d9ecfbb",
   "metadata": {},
   "source": [
    "## RMSProp\n",
    "- AdaGrad의 단점으로는 학습시 진행됨에 따라 기울기 값이 0에 가까워진다는 점이 있고, 0이 될 경우 파라미터는 갱신되지 않는다는 결과를 초래한다.\n",
    "- RMSProp은 이를 개선한 방법으로, 과거의 먼 기울기일수록, 즉, 학습한지 오래된 기울기 일수록 작은 가중치를 부여하고 최근의 기울기에 큰 가중치를 부여하는 '지수 이동평균'방식을 AdaGrad에 적용한 것 이다. 과거의 기울기 반영 규모를 기하급수적으로 줄일 수 있다."
   ]
  },
  {
   "cell_type": "code",
   "execution_count": 4,
   "id": "770b9a1c",
   "metadata": {},
   "outputs": [],
   "source": [
    "class AdaGrad:\n",
    "    def __init__(self, lr=0.01):\n",
    "        self.lr = lr\n",
    "        self.h = None\n",
    "        \n",
    "    def update(self, params: dict, grads: dict):\n",
    "        if self.h is None:\n",
    "            self.h = {}\n",
    "            for key, val in params.items():\n",
    "                self.h[key] = np.zeros_like(val)\n",
    "                \n",
    "        for key in params.keys():\n",
    "            self.h[key] += grads[key] * grads[key]\n",
    "            params[key] -= (self.lr * grads[key]) / (np.sqrt(self.h[key]) + 1e-7)\n",
    "            \n",
    "class RMSProp:\n",
    "    def __init__(self, lr=0.01, rho=0.9):\n",
    "        self.lr = lr\n",
    "        self.rho = rho\n",
    "        self.h = None\n",
    "        \n",
    "    def update(self, params: dict, grads: dict):\n",
    "        if self.h is None:\n",
    "            self.h = {}\n",
    "            for key,val in params.items():\n",
    "                self.h[key] = np.zeros_like(val)\n",
    "                params[key] -= (self.lr * sgrads[key]) / (np.sqrt(self.h[key]) + 1e-7)"
   ]
  },
  {
   "cell_type": "markdown",
   "id": "16ee0faa",
   "metadata": {},
   "source": [
    "## Adam\n",
    "- momentum + adagrad = Gradient 보정과 Learning Rate 조정 기술이 들어감\n",
    "- Adam에는 추가적으로 편향 보정(Bias Correction)이라는 항도 추가 되어 있다.\n",
    "- http://arxiv.org/abs/1412.6980v8"
   ]
  },
  {
   "cell_type": "code",
   "execution_count": 5,
   "id": "380ae96c",
   "metadata": {},
   "outputs": [],
   "source": [
    "class Adam:\n",
    "    def __init__(self, lr=0.001, beta1=0.9, beta2=0.999):\n",
    "        self.lr = lr\n",
    "        self.beta1 = beta1\n",
    "        self.beta2 = beta2\n",
    "        self.iter = 0\n",
    "        self.m = None\n",
    "        self.v = None\n",
    "        \n",
    "    def update(self, params, grads):\n",
    "        if self.m is None:\n",
    "            self.m, self.v = {}, {}\n",
    "            \n",
    "        self.iter += 1\n",
    "        lr_t = self.lr * np.sqrt(1.0 - self.beta ** self.iter) / (1.0 - self.beta1 ** self.iter)\n",
    "        \n",
    "        for key in params.keys():\n",
    "            self.m[key] += (1 - self.beta1) * (grads[key] - self.m[key])\n",
    "            self.v[key] += (1 - self.beta2) * (grads[key]**2 - self.v[key])\n",
    "            \n",
    "            params[key] -= lr_t * self.m[key] / (np.sqrt(self.v[key]) + 1e-7)"
   ]
  },
  {
   "cell_type": "markdown",
   "id": "448d4756",
   "metadata": {},
   "source": [
    "# 2. Weights Initial Value\n",
    "- 신경망 학습의 목적은 가중치의 최적값을 찾는 것인데, 가중치 초깃값을 잘못 설정한다는 것은 시작부터 꼬인다는 의미이다."
   ]
  },
  {
   "cell_type": "markdown",
   "id": "3411b21b",
   "metadata": {},
   "source": [
    "## 초깃값을 0으로\n",
    "- 해당의 아이디어는 오버피팅을 억제하기 위한 가중치 감소(Weight Decay)를 적용함으로써 인위적으로 가중치의 값을 작게 만드는 것에서 출발했다.\n",
    "- 해당 방식은 Back propagation을 수행할 때 문제가 발생한다.\n",
    "    - 수행과정에서 파라미터의 변화량을 계산해서 파라미터를 갱신해주어야 하는데, 파라미터가 모두 동일하다면 변화량 또한 동일하게 나올 것 이고, 이는 파라미터 값이 똑같은 값으로 갱신되기 때문이다.\n",
    "- 이러한 문제 때문에 가중치의 초깃값은 무작위로 설정해주어야 한다."
   ]
  },
  {
   "cell_type": "markdown",
   "id": "f886e80e",
   "metadata": {},
   "source": [
    "## 은닉층의 활성화값들 분포 형태를 보고 단서를 파악\n",
    "- 무작위 방식도 똑똑한 방법들이 있다. (https://techblog-history-younghunjo1.tistory.com/236?category=863123)\n",
    "- 이들은 모두 은닉층의 활성화값들의 분포 형태를 참고한다."
   ]
  },
  {
   "cell_type": "code",
   "execution_count": 7,
   "id": "8d2bec65",
   "metadata": {},
   "outputs": [],
   "source": [
    "import numpy as np\n",
    "import matplotlib.pyplot as plt\n",
    "\n",
    "def sigmoid(x):\n",
    "    return 1 / (1 + np.exp(-x))\n",
    "\n",
    "def relu(x):\n",
    "    return np.maximum(0, x)\n",
    "\n",
    "def tanh(x):\n",
    "    return np.tanh(x)\n",
    "\n",
    "def visualize_hidden_outputs(weight_init_std=1, activation='sigmoid'):\n",
    "    input_data = np.random.randn(1000, 100)\n",
    "    node_num = 100\n",
    "    hidden_layer_size = 5\n",
    "    activations = {}\n",
    "    \n",
    "    x = input_data\n",
    "    \n",
    "    for i in range(hidden_layer_size):\n",
    "        if i != 0:\n",
    "            x = activations[i - 1]\n",
    "            \n",
    "        # 가중치 초깃값\n",
    "        if weight_init_std == 'xaiver':\n",
    "            w = np.random.randn(node_num, node_num) / np.sqrt(node_num)\n",
    "        elif weight_init_std == 'he':\n",
    "            w = np.random.randn(node_num, node_num) / np.sqrt(2 / node_num)\n",
    "        else:\n",
    "            w = np.random.randn(node_num, node_num) * weight_init_std\n",
    "            \n",
    "        a = np.matmul(x, w)\n",
    "        \n",
    "        if activation == 'sigmoid':\n",
    "            z = sigmoid(a)\n",
    "        elif activation == 'relu':\n",
    "            z = relu(a)\n",
    "        elif activation == 'tanh':\n",
    "            z = tanh(a)\n",
    "        else:\n",
    "            return \"지정한 {} 활성화함수는 함수 내에 설정되어 있지 않습니다.\".format(activation)\n",
    "        \n",
    "        activations[i] = z\n",
    "    \n",
    "    for i, a in activations.items():\n",
    "        plt.subplot(1, len(activations), i + 1)\n",
    "        plt.title(str(i + 1) + \"-layer\")\n",
    "        if i != 0:\n",
    "            plt.yticks([], [])\n",
    "        plt.hist(a.flatten(), 30, range=(0, 1))"
   ]
  },
  {
   "cell_type": "code",
   "execution_count": 8,
   "id": "ad3b430e",
   "metadata": {},
   "outputs": [
    {
     "data": {
      "image/png": "[encoded data removed]",
      "text/plain": [
       "<Figure size 640x480 with 5 Axes>"
      ]
     },
     "metadata": {},
     "output_type": "display_data"
    }
   ],
   "source": [
    "visualize_hidden_outputs(weight_init_std=1, activation=\"sigmoid\")"
   ]
  },
  {
   "cell_type": "markdown",
   "id": "ed92059b",
   "metadata": {},
   "source": [
    "- 표준편차가 1인 분포를 가질 때, 출력값들은 0과 1로 치우쳐져 있다. Sigmoid 함수 그래프는 0 또는 1에서 미분값이 0이 되어버리는데, 이 상태에서 Back propagation을 수행하다가는 기울기 값이 작아지다가 손실되는 Gradient Vanishing 문제가 발생한다."
   ]
  },
  {
   "cell_type": "code",
   "execution_count": 9,
   "id": "93c44172",
   "metadata": {},
   "outputs": [
    {
     "data": {
      "image/png": "[encoded data removed]",
      "text/plain": [
       "<Figure size 640x480 with 5 Axes>"
      ]
     },
     "metadata": {},
     "output_type": "display_data"
    }
   ],
   "source": [
    "visualize_hidden_outputs(weight_init_std=0.01, activation='sigmoid')"
   ]
  },
  {
   "cell_type": "markdown",
   "id": "f0ad454b",
   "metadata": {},
   "source": [
    "- 0.01과 같이 표준편차가 0에 근사한다는 것은 결국 값의 종류 갯수가 그만큼 매우 적다는 것을 의미하고, 초기화된 가중치 값들이 거의 동일하다는 것을 의미한다.\n",
    "- 그래프에는 0과 1로 치우쳐져 있지 않아서 Gradient Vanishing 문제가 발생하지는 않는다. 하지만 5개의 신경망이 모두 거의 동일한 값만을 출력하는 것을 볼 수 있다. (표현력 제한 문제)\n",
    "    - 이와 같은 경우에는 신경망 내부의 노드 갯수를 여러개로 둔 이유가 없다.\n",
    "    - 100개 노드가 모두 1을 가리키고 있다면, 1개 노드가 1을 가리키고 있는 거랑 다를 것이 없다. 노드가 100개가 되어 오히려 리소스 낭비만 하고 있는 것 이다.\n",
    "- 그래서 좋은 분포란? 결과값들이 적당히 고루 분포되어 있어야 한다. 그래야 신경망 층 사이에 다양한 값들이 흐름으로써 신경망 학습이 효율적으로 이루어지기 때문이다."
   ]
  },
  {
   "cell_type": "markdown",
   "id": "6f2d578e",
   "metadata": {},
   "source": [
    "### Xaiver\n",
    "- 신경망 층 간의 노드 갯수를 고려해 가중치의 표준편차값을 설정한다."
   ]
  },
  {
   "cell_type": "code",
   "execution_count": 10,
   "id": "aefe3d39",
   "metadata": {},
   "outputs": [
    {
     "data": {
      "image/png": "[encoded data removed]",
      "text/plain": [
       "<Figure size 640x480 with 5 Axes>"
      ]
     },
     "metadata": {},
     "output_type": "display_data"
    }
   ],
   "source": [
    "visualize_hidden_outputs(weight_init_std='xaiver', activation='sigmoid')"
   ]
  },
  {
   "cell_type": "markdown",
   "id": "3b8f29db",
   "metadata": {},
   "source": [
    "### He\n",
    "- Relu 활성함수를 고려한 기법"
   ]
  },
  {
   "cell_type": "code",
   "execution_count": 12,
   "id": "3e7fa679",
   "metadata": {},
   "outputs": [
    {
     "data": {
      "image/png": "[encoded data removed]",
      "text/plain": [
       "<Figure size 640x480 with 5 Axes>"
      ]
     },
     "metadata": {},
     "output_type": "display_data"
    }
   ],
   "source": [
    "visualize_hidden_outputs(weight_init_std='he', activation='relu')"
   ]
  },
  {
   "cell_type": "markdown",
   "id": "cdce4e7c",
   "metadata": {},
   "source": [
    "#### 모든 초기화 기법의 핵심은 앞 계층 노드가 많을수록 가중치의 표준편차 값을 작게하는 것 이다. (대부분의 가중치의 값들이 동일한 값을 나타내도록 분포시킨다.)"
   ]
  },
  {
   "cell_type": "markdown",
   "id": "aadd95f5",
   "metadata": {},
   "source": [
    "# 3. Batch Normalization\n",
    "- 가중치 초기화를 적절히 설정하는 목적은 은닉층의 출력값들의 분포를 고르게 하기 위함이었다. 그렇다면 은닉층의 출력값들이 나왔을 때, 이 출력값들의 분포를 인위적으로 고르게 분포하도록 강제 변환해주면 어떨까? 이것이 배치 정규화의 아이디어이다.\n",
    "1. 학습을 빨리 진행시켜 학습 속도를 개선한다.\n",
    "2. 가중치 초깃값 설정에 의존하지 않는다.\n",
    "3. 신경망의 오버피팅 문제를 예방할 수 있다."
   ]
  },
  {
   "cell_type": "markdown",
   "id": "8afcd951",
   "metadata": {},
   "source": [
    "- 배치 정규화에서 말하는 '배치'는 신경망 학습시 주로 사용하는 미니 배치의 그 '배치'와 동일하다.\n",
    "- 미니 배치로 들어오는 입력 데이터가 은닉층을 거쳐 나온 출력값들을 정규화 시켜주는 것 이다.\n",
    "    - 출력값들의 평균이 0, 분산이 1이 되도록 정규화 시켜준다.\n"
   ]
  },
  {
   "cell_type": "markdown",
   "id": "8b911983",
   "metadata": {},
   "source": [
    "# 4. 가중치 감소 (Weight Decay)\n",
    "- Regularization 이라고 하며, 정규화라고 하는데 Normalization 과 같은 의미는 아니다.\n",
    "- 가중치 감소는 큰 가중치를 인위적으로 정규화 항을 부여하여 값을 감소시켜 오버피팅을 억제하는 역할을 한다."
   ]
  },
  {
   "cell_type": "markdown",
   "id": "3e8315c8",
   "metadata": {},
   "source": [
    "# 5. Dropout\n",
    "- 가중치 감소로는 오버피팅 억제에 한계가 있을 때 사용하는 방법이다. 신경망의 노드를 랜덤하게 삭제하는 방법이다.\n",
    "- 단, 학습 시에만 노드를 삭제하는 것 이고, 테스트 데이터에 예측할 때는 노드를 삭제하지 않고 모든 노드를 사용하여 예측한다."
   ]
  },
  {
   "cell_type": "code",
   "execution_count": 13,
   "id": "b3ceca63",
   "metadata": {},
   "outputs": [],
   "source": [
    "class Dropout:\n",
    "    def __init__(self, dropout_ratio=0.5):\n",
    "        self.dropout_ratio = dropout_ratio\n",
    "        self.mask = None\n",
    "    \n",
    "    def forward(self, x, train_flg=True):\n",
    "        if train_flg:\n",
    "            self.mask = np.random.randn(*x.shape) > dropout_ratio\n",
    "            return x * self.mask\n",
    "        \n",
    "        return x (1 - self.dropout_ratio)\n",
    "    \n",
    "    def backward(self, dout):\n",
    "        return dout * self.mask"
   ]
  }
 ],
 "metadata": {
  "kernelspec": {
   "display_name": "Python 3 (ipykernel)",
   "language": "python",
   "name": "python3"
  },
  "language_info": {
   "codemirror_mode": {
    "name": "ipython",
    "version": 3
   },
   "file_extension": ".py",
   "mimetype": "text/x-python",
   "name": "python",
   "nbconvert_exporter": "python",
   "pygments_lexer": "ipython3",
   "version": "3.8.12"
  }
 },
 "nbformat": 4,
 "nbformat_minor": 5
}
