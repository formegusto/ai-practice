{
 "cells": [
  {
   "cell_type": "markdown",
   "id": "ec73ea11",
   "metadata": {},
   "source": [
    "### https://techblog-history-younghunjo1.tistory.com/376\n",
    "- 신경망 모델은 덧셈, 곱셈 연산도 존재하지만 가장 핵심은 Activation Function Operation 이다.\n",
    "- 활성화 함수 종류에 따라 오차역전파 방법이 차이가 있다."
   ]
  },
  {
   "cell_type": "markdown",
   "id": "550ebe0e",
   "metadata": {},
   "source": [
    "# 1. ReLU\n",
    "- ReLU는 x가 0보다 작거나 같을 때, y를 모두 0으로 차단해버리는 활성화함수 이다.\n",
    "- ReLU 함수의 x에 대한 y의 미분은 순전파 때의 입력 데이터가 0보다 컸다면, 이를 역전파 수행할 때 이전 노드에서 흘러들어온 국소적인 미분 값을 그대로 흘려보내는 것을 의미한다.\n",
    "- 반대로 순전파 시 x가 0이었다면 이를 역전파 수행 시, 이전 노드에서 흘러들어온 국소적인 미분 값을 전달하지 않는 것을 의미한다. x가 0 이하일 때 미분값이 0이기 때문에 이전 노드에서 어떤 값이 흘러나왔던 간에 0을 곱하면 0이 되기 때문이다."
   ]
  },
  {
   "cell_type": "code",
   "execution_count": 22,
   "id": "bcd2c95e",
   "metadata": {},
   "outputs": [
    {
     "name": "stdout",
     "output_type": "stream",
     "text": [
      "Input - [2. 2. 0. 2. 2. 2. 0. 2. 0. 0. 0. 2. 0. 2. 0. 0. 0. 2. 0. 2.]\n",
      "Forward Propagation - [2. 2. 0. 2. 2. 2. 0. 2. 0. 0. 0. 2. 0. 2. 0. 0. 0. 2. 0. 2.]\n",
      "Backward PRopagation - [2. 2. 0. 2. 2. 2. 0. 2. 0. 0. 0. 2. 0. 2. 0. 0. 0. 2. 0. 2.]\n"
     ]
    }
   ],
   "source": [
    "import numpy as np\n",
    "\n",
    "# Relu 활성함수의 역전파 계층 만들기\n",
    "class Relu:\n",
    "    def __init__(self):\n",
    "        self.mask = None\n",
    "    \n",
    "    def forward(self, x: np.array):\n",
    "        # 0보다 작거나 같은 값은 출력값 0처리,\n",
    "        self.mask = (x <= 0)\n",
    "        out = x.copy()\n",
    "        out[self.mask] = 0\n",
    "        return out\n",
    "    \n",
    "    def backward(self, d_out):\n",
    "        d_out[self.mask] = 0\n",
    "        dx = d_out\n",
    "        \n",
    "        return dx\n",
    "    \n",
    "datas = np.append(np.zeros(10), np.ones(10) + 1)\n",
    "np.random.shuffle(datas)\n",
    "print(\"Input - {}\".format(datas))\n",
    "\n",
    "relu_layer = Relu()\n",
    "forward_result = relu_layer.forward(datas)\n",
    "print(\"Forward Propagation - {}\".format(forward_result))\n",
    "\n",
    "back_result = relu_layer.backward(datas)\n",
    "print(\"Backward Propagation - {}\".format(back_result))"
   ]
  },
  {
   "cell_type": "markdown",
   "id": "d2337eb8",
   "metadata": {},
   "source": [
    "# 2. Sigmoid\n",
    "- 시그모이드 함수 연산은 계산 그래프(Computation Graph)로 펼쳐서 확인할 수 있다.\n",
    "1. 나누기 연산\n",
    "2. 덧셈 연산\n",
    "3. exp(Exponential) 연산"
   ]
  },
  {
   "cell_type": "code",
   "execution_count": 13,
   "id": "c9620a7f",
   "metadata": {},
   "outputs": [
    {
     "data": {
      "text/plain": [
       "array([1., 1., 1., 0., 0., 1., 0., 0., 1., 0., 0., 0., 0., 1., 0., 1., 1.,\n",
       "       1., 0., 1.])"
      ]
     },
     "execution_count": 13,
     "metadata": {},
     "output_type": "execute_result"
    }
   ],
   "source": [
    "def Sigmoid:\n",
    "    def __init__:\n",
    "        "
   ]
  },
  {
   "cell_type": "code",
   "execution_count": null,
   "id": "e20f500f",
   "metadata": {},
   "outputs": [],
   "source": []
  }
 ],
 "metadata": {
  "kernelspec": {
   "display_name": "Python 3 (ipykernel)",
   "language": "python",
   "name": "python3"
  },
  "language_info": {
   "codemirror_mode": {
    "name": "ipython",
    "version": 3
   },
   "file_extension": ".py",
   "mimetype": "text/x-python",
   "name": "python",
   "nbconvert_exporter": "python",
   "pygments_lexer": "ipython3",
   "version": "3.8.12"
  }
 },
 "nbformat": 4,
 "nbformat_minor": 5
}
